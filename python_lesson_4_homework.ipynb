{
 "cells": [
  {
   "cell_type": "markdown",
   "metadata": {
    "pycharm": {
     "name": "#%% md\n"
    }
   },
   "source": [
    "# Задание 1\n",
    "* Собрать информацию о всех строящихся объектах на сайте \"наш.дом.рф\"\n",
    "* Cохранить ее в pandas dataframe\n",
    "* Cохранить pandas dataframe в excel\n",
    "* Cохранить pandas dataframe в pickle\n",
    "* Cохранить pandas dataframe в БД\n",
    "\n",
    "# Задание 2\n",
    "* Выберите регион\n",
    "* Сравните среднюю цену квадратного метра в городах этого региона\n",
    "* Определите количество строящихся объектов и квартир в регионах\n",
    "* Определите объем строящегося жилья в квадратных метрах\n",
    "\n",
    "# Задание 3 *\n",
    "* Напишете скрипт, который сможет ежедневно собирать данные по цене, количестве и объему строящихся объектов самостоятельно и ежедневно\n",
    "* Попробуйте ускорить процесс\n",
    "* Добавьте возможность добавления данных в БД с указанием текущей даты."
   ]
  },
  {
   "cell_type": "code",
   "execution_count": null,
   "metadata": {
    "pycharm": {
     "name": "#%%\n"
    }
   },
   "outputs": [],
   "source": [
    "import requests\n",
    "from geopy.geocoders import Nominatim\n",
    "import pandas as pd\n",
    "from tqdm import tqdm\n",
    "import time\n",
    "import json\n",
    "\n",
    "pd.set_option('display.max_columns', None)\n",
    "#pd.set_option('display.expand_frame_repr', False)\n",
    "pd.set_option('max_colwidth', 100)"
   ]
  },
  {
   "cell_type": "code",
   "execution_count": null,
   "metadata": {},
   "outputs": [],
   "source": [
    "#!pip install geopy\n",
    "#!pip install geocoder"
   ]
  },
  {
   "cell_type": "markdown",
   "metadata": {
    "pycharm": {
     "name": "#%% md\n"
    }
   },
   "source": [
    "## Список объектов"
   ]
  },
  {
   "cell_type": "code",
   "execution_count": null,
   "metadata": {
    "pycharm": {
     "name": "#%%\n"
    }
   },
   "outputs": [],
   "source": [
    "all_obj_ids = []\n",
    "\n",
    "for off_ in range(0,15000,1001):\n",
    "    offset_ = off_\n",
    "    limit_ = 1000\n",
    "    url = f'https://xn--80az8a.xn--d1aqf.xn--p1ai/\\\n",
    "%D1%81%D0%B5%D1%80%D0%B2%D0%B8%D1%81%D1%8B/api/kn/object?offset={offset_}&\\\n",
    "limit={limit_}&sortField=devId.devShortCleanNm&sortType=asc&objStatus=0'\n",
    "\n",
    "    res = requests.get(url)\n",
    "    objects_data = res.json()\n",
    "    objects_list = objects_data.get('data').get('list')\n",
    "    objids = [x.get('objId') for x in objects_list]\n",
    "\n",
    "    all_obj_ids.extend(objids)\n"
   ]
  },
  {
   "cell_type": "raw",
   "metadata": {},
   "source": [
    "pandas.json_normalize(data, \n",
    "                      record_path=None, meta=None, meta_prefix=None, \n",
    "                      record_prefix=None, errors='raise', sep='.', max_level=None)"
   ]
  },
  {
   "cell_type": "markdown",
   "metadata": {
    "pycharm": {
     "name": "#%% md\n"
    }
   },
   "source": [
    "# Данные по определенному объекту"
   ]
  },
  {
   "cell_type": "code",
   "execution_count": null,
   "metadata": {},
   "outputs": [],
   "source": [
    "from random import sample\n",
    "\n",
    "temp = sample(all_obj_ids, 1500)"
   ]
  },
  {
   "cell_type": "code",
   "execution_count": null,
   "metadata": {
    "pycharm": {
     "name": "#%%\n"
    },
    "scrolled": false
   },
   "outputs": [],
   "source": [
    "df = pd.DataFrame()\n",
    "\n",
    "for j in tqdm(temp): #all_obj_ids\n",
    "\n",
    "    url = f'https://xn--80az8a.xn--d1aqf.xn--p1ai/%D1%81%D0%B5%D1%80%D0%B2%D0%B8%D1%81%D1%8B/api/object/'+str(j)\n",
    "    res = requests.get(url)\n",
    "    df = pd.concat([df, pd.json_normalize(res.json()['data'])])\n",
    "    time.sleep(0.5) #кто понял жизнь тот не спешит\n",
    "\n",
    "df = df.reset_index(drop=True)\n"
   ]
  },
  {
   "cell_type": "code",
   "execution_count": null,
   "metadata": {},
   "outputs": [],
   "source": [
    "locations = []\n",
    "for la, lo in tqdm(zip(list(df['objLkLatitude']), list(df['objLkLongitude']))):\n",
    "    geolocator = Nominatim(user_agent=\"http\")\n",
    "    location = geolocator.reverse(f\"{la}, {lo}\")\n",
    "    try:\n",
    "        locations.append(location.raw['address']['state'])\n",
    "    except:\n",
    "        locations.append('Not Detected')\n",
    "    time.sleep(0.25)\n",
    "\n",
    "df['location'] = locations"
   ]
  },
  {
   "cell_type": "code",
   "execution_count": null,
   "metadata": {},
   "outputs": [],
   "source": [
    "#df.to_excel('/Users/naensamble/Desktop/data.xlsx', index=False)"
   ]
  },
  {
   "cell_type": "code",
   "execution_count": null,
   "metadata": {},
   "outputs": [],
   "source": [
    "#сохранить в Pickle"
   ]
  },
  {
   "cell_type": "code",
   "execution_count": null,
   "metadata": {},
   "outputs": [],
   "source": [
    "#сохранить в БД"
   ]
  },
  {
   "cell_type": "code",
   "execution_count": null,
   "metadata": {
    "scrolled": false
   },
   "outputs": [],
   "source": [
    "df = df.astype({'objFlatSq':'float'})\n",
    "df = df.groupby('location').agg({\n",
    "    'objPriceAvg':'mean',\n",
    "    'objElemLivingCnt':'sum',\n",
    "    'pdId':'nunique',\n",
    "    'objFlatSq':'sum'})\\\n",
    "    .reset_index().rename(columns = {\n",
    "        'objPriceAvg':'Средняя цена за кв.метр',\n",
    "        'objElemLivingCnt':'Количество квартир',\n",
    "        'pdId':'Количество строящихся объектов',\n",
    "        'objFlatSq':'Общая площадь квартир'\n",
    "    })\n",
    "\n",
    "\n",
    "df.sample(5)"
   ]
  },
  {
   "cell_type": "code",
   "execution_count": null,
   "metadata": {},
   "outputs": [],
   "source": [
    "df[df['objFlatSq'] == '0.011926.882815.08']"
   ]
  },
  {
   "cell_type": "code",
   "execution_count": null,
   "metadata": {},
   "outputs": [],
   "source": []
  },
  {
   "cell_type": "markdown",
   "metadata": {},
   "source": [
    "# Задание 3 *\n"
   ]
  },
  {
   "cell_type": "code",
   "execution_count": null,
   "metadata": {},
   "outputs": [],
   "source": [
    "import requests\n",
    "from geopy.geocoders import Nominatim\n",
    "import pandas as pd\n",
    "from tqdm import tqdm\n",
    "import time\n",
    "import json\n",
    "from datetime import date, datetime\n",
    "\n",
    "pd.set_option('display.max_columns', None)\n",
    "pd.set_option('max_colwidth', 100)\n",
    "\n",
    "\n",
    "def collect_objects_list():\n",
    "    \n",
    "    all_obj_ids = []\n",
    "\n",
    "    for off_ in range(0,15000,1001):\n",
    "        offset_ = off_\n",
    "        limit_ = 1000\n",
    "        url = f'https://xn--80az8a.xn--d1aqf.xn--p1ai/\\\n",
    "%D1%81%D0%B5%D1%80%D0%B2%D0%B8%D1%81%D1%8B/api/kn/object?offset={offset_}&\\\n",
    "limit={limit_}&sortField=devId.devShortCleanNm&sortType=asc&objStatus=0'\n",
    "\n",
    "        res = requests.get(url)\n",
    "        objects_data = res.json()\n",
    "        objects_list = objects_data.get('data').get('list')\n",
    "        objids = [x.get('objId') for x in objects_list]\n",
    "\n",
    "        all_obj_ids.extend(objids)\n",
    "        \n",
    "    return all_obj_ids\n",
    "\n",
    "def collect_objects():\n",
    "    \n",
    "    df = pd.DataFrame()\n",
    "\n",
    "    for j in tqdm(collect_objects_list()):\n",
    "\n",
    "        url = f'https://xn--80az8a.xn--d1aqf.xn--p1ai/%D1%81%D0%B5%D1%80%D0%B2%D0%B8%D1%81%D1%8B/api/object/'+str(j)\n",
    "        res = requests.get(url)\n",
    "        df = pd.concat([df, pd.json_normalize(res.json()['data'])])\n",
    "        time.sleep(0.5) #кто понял жизнь тот не спешит\n",
    "\n",
    "    df = df.reset_index(drop=True)\n",
    "    \n",
    "    return df\n",
    "\n",
    "\n",
    "def append_geo():\n",
    "    \n",
    "    df = collect_objects()\n",
    "    locations = []\n",
    "    for la, lo in tqdm(zip(list(df['objLkLatitude']), list(df['objLkLongitude']))):\n",
    "        geolocator = Nominatim(user_agent=\"http\")\n",
    "        location = geolocator.reverse(f\"{la}, {lo}\")\n",
    "        try:\n",
    "            locations.append(location.raw['address']['state'])\n",
    "        except:\n",
    "            locations.append('Not Detected')\n",
    "        time.sleep(0.25)\n",
    "\n",
    "    df['location'] = locations\n",
    "    \n",
    "    return df\n",
    "\n",
    "\n",
    "def main():\n",
    "    \n",
    "    df = df.astype({'objFlatSq':'float'})\n",
    "    df = df.groupby('location').agg({\n",
    "        'objPriceAvg':'mean',\n",
    "        'objElemLivingCnt':'sum',\n",
    "        'pdId':'nunique',\n",
    "        'objFlatSq':'sum'})\\\n",
    "        .reset_index().rename(columns = {\n",
    "            'objPriceAvg':'Средняя цена за кв.метр',\n",
    "            'objElemLivingCnt':'Количество квартир',\n",
    "            'pdId':'Количество строящихся объектов',\n",
    "            'objFlatSq':'Общая площадь квартир'\n",
    "        })\n",
    "    df['insert_date'] = date.today().strftime('%Y-%m-%d')\n",
    "    \n",
    "    return df\n",
    "\n",
    "if __name__ == '__main__':\n",
    "    main()"
   ]
  },
  {
   "cell_type": "raw",
   "metadata": {},
   "source": []
  },
  {
   "cell_type": "raw",
   "metadata": {},
   "source": []
  },
  {
   "cell_type": "raw",
   "metadata": {},
   "source": []
  }
 ],
 "metadata": {
  "kernelspec": {
   "display_name": "Python 3",
   "language": "python",
   "name": "python3"
  },
  "language_info": {
   "codemirror_mode": {
    "name": "ipython",
    "version": 3
   },
   "file_extension": ".py",
   "mimetype": "text/x-python",
   "name": "python",
   "nbconvert_exporter": "python",
   "pygments_lexer": "ipython3",
   "version": "3.8.5"
  }
 },
 "nbformat": 4,
 "nbformat_minor": 1
}
