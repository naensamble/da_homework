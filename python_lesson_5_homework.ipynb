{
 "cells": [
  {
   "cell_type": "markdown",
   "metadata": {},
   "source": [
    "# Задание"
   ]
  },
  {
   "cell_type": "markdown",
   "metadata": {},
   "source": [
    "### Основная часть"
   ]
  },
  {
   "cell_type": "markdown",
   "metadata": {},
   "source": [
    "* Попробовать построить графики из тех, что были на уроке по Seaborn и Matplotlib\n",
    "* Важно чтобы у каждого из графиков был как минимум один в комментариях или markdown"
   ]
  },
  {
   "cell_type": "markdown",
   "metadata": {},
   "source": [
    "### Дополнительная часть"
   ]
  },
  {
   "cell_type": "markdown",
   "metadata": {},
   "source": [
    "* Некоторые данные представлены в агрегированном в виде в разном временном размере. Если вам нужны дополнительные переменные, то добавьте их в датасет.\n",
    "\n",
    "* Опишите данную вам выборку, а так же кластеризуйте данные с помощь инструментов Python (количество кластеров на ваше усмотрение) и опишите полученные кластеры ( например, в первом кластере представлены клиенты с таким-то поведением или продуктовым наполнением).\n",
    "\n",
    "* Для выполнения работы, пожалуйста, используйте Python. Задание мы ждем выполненным в Jupyter notebook с соответствующими комментариями."
   ]
  },
  {
   "cell_type": "markdown",
   "metadata": {},
   "source": [
    "# Описания полей"
   ]
  },
  {
   "cell_type": "markdown",
   "metadata": {},
   "source": [
    "* age\tвозраст\n",
    "* gender\tпол repexc_date\n",
    "* city_type\tТип города проживания клиента\n",
    "* full_mob\tДлительность взаимоотношений с банком\n",
    "\n",
    "* ml_balance\tипотека\n",
    "* cl_balance_0m\tпотребительский кредит\n",
    "* loan_balance_0m\tвсе кредиты\n",
    "\n",
    "* td_balance_0m\tдепозит\n",
    "* casa_balance_0m\tсчета\n",
    "\n",
    "* dc_trx_cnt\tколичество трат по картам\n",
    "* dc_trx_sum\tсумма трат по картам\n",
    "* Avg_trx\tсредний размер транзакции\n",
    "* avgtrx_to_balance\t\n",
    "\n",
    "\n",
    "* min_casa_balance_1q\tпоказатели по счетам за квартал\n",
    "* max_casa_balance_1q\t\n",
    "* avg_casa_balance_1Y\tпоказатели по счетам за год\n",
    "\n",
    "* min_td_balance_1q\t\n",
    "* max_td_balance_1q\t\n",
    "* avg_td_balance_1Y\n",
    "\n",
    "* min_loan_balance_1q\t\n",
    "* max_loan_balance_1q\t\n",
    "* avg_loan_balance_1Y\n",
    "\n",
    "* min_cl_balance_1q\t\n",
    "* max_cl_balance_1q\t\n",
    "* avg_cl_balance_1Y\t\n",
    "* loan_to_deposit\t\n",
    "\n",
    "* income\tдоход клиента\n",
    "* nbi\tдоход от клиента без OPEX"
   ]
  },
  {
   "cell_type": "code",
   "execution_count": null,
   "metadata": {},
   "outputs": [],
   "source": [
    "%matplotlib inline\n",
    "import pandas as pd\n",
    "import matplotlib.pyplot as plt\n",
    "import seaborn as sns\n",
    "import numpy as np\n",
    "from scipy import stats\n",
    "from tqdm.auto import tqdm\n",
    "\n",
    "\n",
    "#!pip install pandas-profiling\n",
    "from pandas_profiling import ProfileReport\n",
    "\n",
    "pd.set_option('display.float_format', lambda x: '%.3f' % x)\n",
    "pd.set_option('display.max_columns', None)\n",
    "#pd.set_option('display.expand_frame_repr', False)\n",
    "pd.set_option('max_colwidth', 100)\n",
    "pd.options.mode.chained_assignment = None\n",
    "\n",
    "%config InlineBackend.figure_format = 'svg'"
   ]
  },
  {
   "cell_type": "code",
   "execution_count": null,
   "metadata": {},
   "outputs": [],
   "source": [
    "df = pd.read_csv('test_cluster.csv', encoding='cp1251', sep=';')\n",
    "df.head()"
   ]
  },
  {
   "cell_type": "code",
   "execution_count": null,
   "metadata": {},
   "outputs": [],
   "source": [
    "df.describe()"
   ]
  },
  {
   "cell_type": "raw",
   "metadata": {},
   "source": []
  },
  {
   "cell_type": "raw",
   "metadata": {},
   "source": []
  },
  {
   "cell_type": "code",
   "execution_count": null,
   "metadata": {
    "scrolled": true
   },
   "outputs": [],
   "source": [
    "ProfileReport(df, title=\"Report\")"
   ]
  },
  {
   "cell_type": "raw",
   "metadata": {},
   "source": []
  },
  {
   "cell_type": "raw",
   "metadata": {},
   "source": []
  },
  {
   "cell_type": "code",
   "execution_count": null,
   "metadata": {},
   "outputs": [],
   "source": [
    "df = df[['age', 'city_type', 'full_mob', 'ml_balance', 'loan_balance_0m', 'td_balance_0m', \n",
    "   'dc_trx_sum', 'income']]"
   ]
  },
  {
   "cell_type": "code",
   "execution_count": null,
   "metadata": {},
   "outputs": [],
   "source": [
    "df = pd.get_dummies(df, columns=['city_type'])\n",
    "\n",
    "#df['gender'] = df['gender'].fillna('Not_Stated')\n",
    "#df = pd.get_dummies(df, columns=['gender'])\n"
   ]
  },
  {
   "cell_type": "code",
   "execution_count": null,
   "metadata": {},
   "outputs": [],
   "source": [
    "plt.figure(figsize=(10,7))\n",
    "plt.title('title', size=14)\n",
    "plt.xlabel('xlabel')\n",
    "plt.ylabel('ylabel')\n",
    "sns.histplot(data=df_, x='age', palette = 'flare_r', alpha = 0.4);"
   ]
  },
  {
   "cell_type": "code",
   "execution_count": null,
   "metadata": {},
   "outputs": [],
   "source": [
    "plt.figure(figsize=(10,7))\n",
    "plt.title('title', size=14)\n",
    "plt.xlabel('xlabel')\n",
    "plt.ylabel('ylabel')\n",
    "sns.histplot(data=df_, x='full_mob', palette = 'flare_r', alpha = 0.4);"
   ]
  },
  {
   "cell_type": "markdown",
   "metadata": {},
   "source": [
    "## Кластеризация"
   ]
  },
  {
   "cell_type": "code",
   "execution_count": null,
   "metadata": {},
   "outputs": [],
   "source": [
    "df_ = df.copy()"
   ]
  },
  {
   "cell_type": "code",
   "execution_count": null,
   "metadata": {},
   "outputs": [],
   "source": [
    "from sklearn.preprocessing import StandardScaler\n",
    "from sklearn.cluster import KMeans\n",
    "from sklearn.metrics import silhouette_score\n",
    "from scipy.cluster.hierarchy import dendrogram, linkage "
   ]
  },
  {
   "cell_type": "code",
   "execution_count": null,
   "metadata": {},
   "outputs": [],
   "source": [
    "scaler = StandardScaler() # создаём нормализатор"
   ]
  },
  {
   "cell_type": "code",
   "execution_count": null,
   "metadata": {},
   "outputs": [],
   "source": [
    "x_sc = scaler.fit_transform(df_.drop(columns = ['income'])) # обучаем"
   ]
  },
  {
   "cell_type": "code",
   "execution_count": null,
   "metadata": {},
   "outputs": [],
   "source": [
    "km = KMeans(n_clusters = 5, random_state = 0)"
   ]
  },
  {
   "cell_type": "code",
   "execution_count": null,
   "metadata": {},
   "outputs": [],
   "source": [
    "labels = km.fit_predict(x_sc)"
   ]
  },
  {
   "cell_type": "code",
   "execution_count": null,
   "metadata": {},
   "outputs": [],
   "source": [
    "df_['cluster'] = labels"
   ]
  },
  {
   "cell_type": "markdown",
   "metadata": {},
   "source": [
    "## анализ"
   ]
  },
  {
   "cell_type": "code",
   "execution_count": null,
   "metadata": {},
   "outputs": [],
   "source": [
    "df_.sample(5)"
   ]
  },
  {
   "cell_type": "code",
   "execution_count": null,
   "metadata": {},
   "outputs": [],
   "source": [
    "df_[['cluster', 'city_type_<100','city_type_100-500', 'city_type_500-1000', 'city_type_1M+', 'city_type_Mega']]\\\n",
    "    .groupby('cluster').sum()"
   ]
  },
  {
   "cell_type": "markdown",
   "metadata": {},
   "source": [
    "## Вывод"
   ]
  },
  {
   "cell_type": "markdown",
   "metadata": {},
   "source": [
    "Модель кластеризации построилась на основании численности населения города клиентов.\n",
    "\n",
    "_"
   ]
  },
  {
   "cell_type": "code",
   "execution_count": null,
   "metadata": {},
   "outputs": [],
   "source": [
    "df_[['cluster','full_mob', 'ml_balance', 'loan_balance_0m', 'td_balance_0m', 'dc_trx_sum', 'income']]\\\n",
    "    .groupby('cluster').mean()"
   ]
  },
  {
   "cell_type": "markdown",
   "metadata": {},
   "source": [
    "## Вывод"
   ]
  },
  {
   "cell_type": "markdown",
   "metadata": {},
   "source": [
    "- выяснилось, что в крупнейших городах и городах-миллионниках (1 и 4 кластер) в среднем более высокая ипотечная нагрузка на клиента. При этом в крупнейших городах в среднем самый высоких доход, хотя в городах-миллиониках он в среднем самый низкий. \n",
    "- в среднем длительные отношения с банком в наиболее высоки в городах от 100 тыс. до 500 тыс. населения (кластер 2)\n",
    "\n",
    "_"
   ]
  },
  {
   "cell_type": "code",
   "execution_count": null,
   "metadata": {},
   "outputs": [],
   "source": [
    "plt.figure(figsize=(10,7))\n",
    "plt.title('title', size=14)\n",
    "plt.xlabel('xlabel')\n",
    "plt.ylabel('ylabel')\n",
    "sns.histplot(data=df_, x='age', hue=\"cluster\", palette = 'flare_r', alpha = 0.4);"
   ]
  },
  {
   "cell_type": "code",
   "execution_count": null,
   "metadata": {},
   "outputs": [],
   "source": [
    "plt.figure(figsize=(10,7))\n",
    "plt.title('title', size=14)\n",
    "plt.xlabel('xlabel')\n",
    "plt.ylabel('ylabel')\n",
    "sns.histplot(data=df_, x='full_mob', hue=\"cluster\", palette = 'flare_r', alpha = 0.4);"
   ]
  },
  {
   "cell_type": "raw",
   "metadata": {},
   "source": []
  },
  {
   "cell_type": "raw",
   "metadata": {},
   "source": []
  },
  {
   "cell_type": "raw",
   "metadata": {},
   "source": []
  }
 ],
 "metadata": {
  "kernelspec": {
   "display_name": "Python 3",
   "language": "python",
   "name": "python3"
  },
  "language_info": {
   "codemirror_mode": {
    "name": "ipython",
    "version": 3
   },
   "file_extension": ".py",
   "mimetype": "text/x-python",
   "name": "python",
   "nbconvert_exporter": "python",
   "pygments_lexer": "ipython3",
   "version": "3.8.5"
  }
 },
 "nbformat": 4,
 "nbformat_minor": 4
}
