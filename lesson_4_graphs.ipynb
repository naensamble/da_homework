{
 "cells": [
  {
   "cell_type": "code",
   "execution_count": null,
   "metadata": {},
   "outputs": [],
   "source": [
    "#установка библиотек\n",
    "# !pip install psycopg2\n",
    "# !pip install plotly"
   ]
  },
  {
   "cell_type": "code",
   "execution_count": null,
   "metadata": {},
   "outputs": [],
   "source": [
    "#проверка подключения PostgreSQL \n",
    "import psycopg2\n",
    "import pandas as pd\n",
    "#Библиотека ждя визуализации\n",
    "from IPython.display import HTML\n",
    "import plotly.express as px\n",
    "\n",
    "\n",
    "#!введите свои реквизиты!\n",
    "DB_HOST = '52.157.159.24'\n",
    "DB_USER = 'student22'\n",
    "DB_USER_PASSWORD = 'student22_password'\n",
    "DB_NAME = 'sql_ex_for_student22'\n",
    "\n",
    "conn = psycopg2.connect(host=DB_HOST, user=DB_USER, password=DB_USER_PASSWORD, dbname=DB_NAME)"
   ]
  },
  {
   "cell_type": "code",
   "execution_count": null,
   "metadata": {},
   "outputs": [],
   "source": [
    "query1 = \"\"\"\n",
    "SELECT * FROM count_products_by_makers\n",
    "\"\"\"\n",
    "\n",
    "query2 = \"\"\"\n",
    "SELECT * FROM sunk_ships_by_classes\n",
    "\"\"\"\n",
    "\n",
    "query3 = \"\"\"\n",
    "SELECT country\n",
    "    , count(*)\n",
    "FROM classes_with_flag\n",
    "GROUP BY country\n",
    "\"\"\"\n",
    "\n",
    "query4 = \"\"\"\n",
    "SELECT launched \n",
    "    , count(*) \n",
    "FROM ships s \n",
    "GROUP BY launched \n",
    "ORDER BY launched\n",
    "\"\"\""
   ]
  },
  {
   "cell_type": "code",
   "execution_count": null,
   "metadata": {},
   "outputs": [],
   "source": [
    "data_raw = pd.io.sql.read_sql(query1, con = conn)"
   ]
  },
  {
   "cell_type": "code",
   "execution_count": null,
   "metadata": {},
   "outputs": [],
   "source": [
    "f = px.bar(data_raw.sort_values(by='maker'), x = 'maker', y = 'count')\n",
    "f.update_layout(xaxis_title = 'Производитель', yaxis_title = 'Количество')\n",
    "f.show()"
   ]
  },
  {
   "cell_type": "code",
   "execution_count": null,
   "metadata": {},
   "outputs": [],
   "source": [
    "data_raw = pd.io.sql.read_sql(query2, con = conn)"
   ]
  },
  {
   "cell_type": "code",
   "execution_count": null,
   "metadata": {},
   "outputs": [],
   "source": [
    "f = px.bar(data_raw, x = 'class', y = 'count')\n",
    "f.update_layout(xaxis_title = 'Класс корабля', yaxis_title = 'Количество потопленных')\n",
    "f.show()"
   ]
  },
  {
   "cell_type": "code",
   "execution_count": null,
   "metadata": {},
   "outputs": [],
   "source": [
    "data_raw = pd.io.sql.read_sql(query3, con = conn)"
   ]
  },
  {
   "cell_type": "code",
   "execution_count": null,
   "metadata": {},
   "outputs": [],
   "source": [
    "f = px.bar(data_raw, x = 'country', y = 'count')\n",
    "f.update_layout(xaxis_title = 'Страна', yaxis_title = 'Количество классов кораблей')\n",
    "f.show()"
   ]
  },
  {
   "cell_type": "code",
   "execution_count": null,
   "metadata": {},
   "outputs": [],
   "source": [
    "data_raw = pd.io.sql.read_sql(query4, con = conn)"
   ]
  },
  {
   "cell_type": "code",
   "execution_count": null,
   "metadata": {},
   "outputs": [],
   "source": [
    "f = px.bar(data_raw, x = 'launched', y = 'count')\n",
    "f.update_layout(xaxis_title = 'Год спуска на воду', yaxis_title = 'Количество кораблей')\n",
    "f.show()"
   ]
  },
  {
   "cell_type": "raw",
   "metadata": {},
   "source": []
  },
  {
   "cell_type": "raw",
   "metadata": {},
   "source": []
  },
  {
   "cell_type": "raw",
   "metadata": {},
   "source": []
  },
  {
   "cell_type": "raw",
   "metadata": {},
   "source": []
  }
 ],
 "metadata": {
  "kernelspec": {
   "display_name": "Python 3",
   "language": "python",
   "name": "python3"
  },
  "language_info": {
   "codemirror_mode": {
    "name": "ipython",
    "version": 3
   },
   "file_extension": ".py",
   "mimetype": "text/x-python",
   "name": "python",
   "nbconvert_exporter": "python",
   "pygments_lexer": "ipython3",
   "version": "3.8.5"
  }
 },
 "nbformat": 4,
 "nbformat_minor": 4
}
